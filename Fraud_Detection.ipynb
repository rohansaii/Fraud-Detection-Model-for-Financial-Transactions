{
 "cells": [
  {
   "cell_type": "code",
   "execution_count": 74,
   "id": "757bc5bf-8b13-4361-bcea-aff79a651dcb",
   "metadata": {},
   "outputs": [],
   "source": [
    "import numpy as np\n",
    "import pandas as pd"
   ]
  },
  {
   "cell_type": "code",
   "execution_count": 75,
   "id": "db49a9b0-c441-4c90-b422-e2a76d8e08fa",
   "metadata": {},
   "outputs": [
    {
     "name": "stdout",
     "output_type": "stream",
     "text": [
      "Shape of dataset: (6362620, 11)\n"
     ]
    }
   ],
   "source": [
    "# 3. Load Dataset\n",
    "df = pd.read_csv(\"Fraud.csv\")\n",
    "print(\"Shape of dataset:\", df.shape)"
   ]
  },
  {
   "cell_type": "code",
   "execution_count": 77,
   "id": "3fb3456b-b439-4151-bcfa-44de9ecae1e0",
   "metadata": {},
   "outputs": [
    {
     "data": {
      "text/html": [
       "<div>\n",
       "<style scoped>\n",
       "    .dataframe tbody tr th:only-of-type {\n",
       "        vertical-align: middle;\n",
       "    }\n",
       "\n",
       "    .dataframe tbody tr th {\n",
       "        vertical-align: top;\n",
       "    }\n",
       "\n",
       "    .dataframe thead th {\n",
       "        text-align: right;\n",
       "    }\n",
       "</style>\n",
       "<table border=\"1\" class=\"dataframe\">\n",
       "  <thead>\n",
       "    <tr style=\"text-align: right;\">\n",
       "      <th></th>\n",
       "      <th>step</th>\n",
       "      <th>type</th>\n",
       "      <th>amount</th>\n",
       "      <th>nameOrig</th>\n",
       "      <th>oldbalanceOrg</th>\n",
       "      <th>newbalanceOrig</th>\n",
       "      <th>nameDest</th>\n",
       "      <th>oldbalanceDest</th>\n",
       "      <th>newbalanceDest</th>\n",
       "      <th>isFraud</th>\n",
       "      <th>isFlaggedFraud</th>\n",
       "    </tr>\n",
       "  </thead>\n",
       "  <tbody>\n",
       "    <tr>\n",
       "      <th>0</th>\n",
       "      <td>1</td>\n",
       "      <td>PAYMENT</td>\n",
       "      <td>9839.64</td>\n",
       "      <td>C1231006815</td>\n",
       "      <td>170136.0</td>\n",
       "      <td>160296.36</td>\n",
       "      <td>M1979787155</td>\n",
       "      <td>0.0</td>\n",
       "      <td>0.0</td>\n",
       "      <td>0</td>\n",
       "      <td>0</td>\n",
       "    </tr>\n",
       "    <tr>\n",
       "      <th>1</th>\n",
       "      <td>1</td>\n",
       "      <td>PAYMENT</td>\n",
       "      <td>1864.28</td>\n",
       "      <td>C1666544295</td>\n",
       "      <td>21249.0</td>\n",
       "      <td>19384.72</td>\n",
       "      <td>M2044282225</td>\n",
       "      <td>0.0</td>\n",
       "      <td>0.0</td>\n",
       "      <td>0</td>\n",
       "      <td>0</td>\n",
       "    </tr>\n",
       "    <tr>\n",
       "      <th>2</th>\n",
       "      <td>1</td>\n",
       "      <td>TRANSFER</td>\n",
       "      <td>181.00</td>\n",
       "      <td>C1305486145</td>\n",
       "      <td>181.0</td>\n",
       "      <td>0.00</td>\n",
       "      <td>C553264065</td>\n",
       "      <td>0.0</td>\n",
       "      <td>0.0</td>\n",
       "      <td>1</td>\n",
       "      <td>0</td>\n",
       "    </tr>\n",
       "    <tr>\n",
       "      <th>3</th>\n",
       "      <td>1</td>\n",
       "      <td>CASH_OUT</td>\n",
       "      <td>181.00</td>\n",
       "      <td>C840083671</td>\n",
       "      <td>181.0</td>\n",
       "      <td>0.00</td>\n",
       "      <td>C38997010</td>\n",
       "      <td>21182.0</td>\n",
       "      <td>0.0</td>\n",
       "      <td>1</td>\n",
       "      <td>0</td>\n",
       "    </tr>\n",
       "    <tr>\n",
       "      <th>4</th>\n",
       "      <td>1</td>\n",
       "      <td>PAYMENT</td>\n",
       "      <td>11668.14</td>\n",
       "      <td>C2048537720</td>\n",
       "      <td>41554.0</td>\n",
       "      <td>29885.86</td>\n",
       "      <td>M1230701703</td>\n",
       "      <td>0.0</td>\n",
       "      <td>0.0</td>\n",
       "      <td>0</td>\n",
       "      <td>0</td>\n",
       "    </tr>\n",
       "  </tbody>\n",
       "</table>\n",
       "</div>"
      ],
      "text/plain": [
       "   step      type    amount     nameOrig  oldbalanceOrg  newbalanceOrig  \\\n",
       "0     1   PAYMENT   9839.64  C1231006815       170136.0       160296.36   \n",
       "1     1   PAYMENT   1864.28  C1666544295        21249.0        19384.72   \n",
       "2     1  TRANSFER    181.00  C1305486145          181.0            0.00   \n",
       "3     1  CASH_OUT    181.00   C840083671          181.0            0.00   \n",
       "4     1   PAYMENT  11668.14  C2048537720        41554.0        29885.86   \n",
       "\n",
       "      nameDest  oldbalanceDest  newbalanceDest  isFraud  isFlaggedFraud  \n",
       "0  M1979787155             0.0             0.0        0               0  \n",
       "1  M2044282225             0.0             0.0        0               0  \n",
       "2   C553264065             0.0             0.0        1               0  \n",
       "3    C38997010         21182.0             0.0        1               0  \n",
       "4  M1230701703             0.0             0.0        0               0  "
      ]
     },
     "execution_count": 77,
     "metadata": {},
     "output_type": "execute_result"
    }
   ],
   "source": [
    "# Display the first 5 rows\n",
    "df.head()"
   ]
  },
  {
   "cell_type": "code",
   "execution_count": 16,
   "id": "70189ad3-dd53-42db-a3d4-e8ed2d277105",
   "metadata": {},
   "outputs": [
    {
     "name": "stdout",
     "output_type": "stream",
     "text": [
      "<class 'pandas.core.frame.DataFrame'>\n",
      "RangeIndex: 6362620 entries, 0 to 6362619\n",
      "Data columns (total 11 columns):\n",
      " #   Column          Dtype  \n",
      "---  ------          -----  \n",
      " 0   step            int64  \n",
      " 1   type            object \n",
      " 2   amount          float64\n",
      " 3   nameOrig        object \n",
      " 4   oldbalanceOrg   float64\n",
      " 5   newbalanceOrig  float64\n",
      " 6   nameDest        object \n",
      " 7   oldbalanceDest  float64\n",
      " 8   newbalanceDest  float64\n",
      " 9   isFraud         int64  \n",
      " 10  isFlaggedFraud  int64  \n",
      "dtypes: float64(5), int64(3), object(3)\n",
      "memory usage: 534.0+ MB\n"
     ]
    }
   ],
   "source": [
    "# Display general information about the DataFrame\n",
    "df.info()"
   ]
  },
  {
   "cell_type": "code",
   "execution_count": 17,
   "id": "630e4dbb-a0ca-471e-8e07-f47df98a8794",
   "metadata": {},
   "outputs": [
    {
     "name": "stdout",
     "output_type": "stream",
     "text": [
      "               step        amount  oldbalanceOrg  newbalanceOrig  \\\n",
      "count  6.362620e+06  6.362620e+06   6.362620e+06    6.362620e+06   \n",
      "mean   2.433972e+02  1.798619e+05   8.338831e+05    8.551137e+05   \n",
      "std    1.423320e+02  6.038582e+05   2.888243e+06    2.924049e+06   \n",
      "min    1.000000e+00  0.000000e+00   0.000000e+00    0.000000e+00   \n",
      "25%    1.560000e+02  1.338957e+04   0.000000e+00    0.000000e+00   \n",
      "50%    2.390000e+02  7.487194e+04   1.420800e+04    0.000000e+00   \n",
      "75%    3.350000e+02  2.087215e+05   1.073152e+05    1.442584e+05   \n",
      "max    7.430000e+02  9.244552e+07   5.958504e+07    4.958504e+07   \n",
      "\n",
      "       oldbalanceDest  newbalanceDest       isFraud  isFlaggedFraud  \n",
      "count    6.362620e+06    6.362620e+06  6.362620e+06    6.362620e+06  \n",
      "mean     1.100702e+06    1.224996e+06  1.290820e-03    2.514687e-06  \n",
      "std      3.399180e+06    3.674129e+06  3.590480e-02    1.585775e-03  \n",
      "min      0.000000e+00    0.000000e+00  0.000000e+00    0.000000e+00  \n",
      "25%      0.000000e+00    0.000000e+00  0.000000e+00    0.000000e+00  \n",
      "50%      1.327057e+05    2.146614e+05  0.000000e+00    0.000000e+00  \n",
      "75%      9.430367e+05    1.111909e+06  0.000000e+00    0.000000e+00  \n",
      "max      3.560159e+08    3.561793e+08  1.000000e+00    1.000000e+00  \n"
     ]
    }
   ],
   "source": [
    "# Display descriptive statistics\n",
    "print(df.describe())"
   ]
  },
  {
   "cell_type": "code",
   "execution_count": 18,
   "id": "a99f83ec-d775-49d6-a5f1-cc52f9d45832",
   "metadata": {},
   "outputs": [
    {
     "name": "stdout",
     "output_type": "stream",
     "text": [
      "step              0\n",
      "type              0\n",
      "amount            0\n",
      "nameOrig          0\n",
      "oldbalanceOrg     0\n",
      "newbalanceOrig    0\n",
      "nameDest          0\n",
      "oldbalanceDest    0\n",
      "newbalanceDest    0\n",
      "isFraud           0\n",
      "isFlaggedFraud    0\n",
      "dtype: int64\n"
     ]
    }
   ],
   "source": [
    "# Check for missing values\n",
    "print(df.isnull().sum())"
   ]
  },
  {
   "cell_type": "code",
   "execution_count": 19,
   "id": "4754fcd5-d39d-40f0-b46b-61c0f1a6571c",
   "metadata": {},
   "outputs": [
    {
     "name": "stdout",
     "output_type": "stream",
     "text": [
      "Total transactions: 6362620\n",
      "Transactions with zero dest balances: 2317282\n",
      "Percentage: 36.42%\n"
     ]
    }
   ],
   "source": [
    "merchant_mask = df['nameDest'].str.startswith('M')\n",
    "dest_balance_zero_mask = (df['oldbalanceDest'] == 0.0) & (df['newbalanceDest'] == 0.0)\n",
    "zero_dest_balance_count = df[dest_balance_zero_mask].shape[0]\n",
    "total_count = df.shape[0]\n",
    "print(f'Total transactions: {total_count}')\n",
    "print(f'Transactions with zero dest balances: {zero_dest_balance_count}')\n",
    "print(f'Percentage: {zero_dest_balance_count / total_count * 100:.2f}%')"
   ]
  },
  {
   "cell_type": "code",
   "execution_count": 20,
   "id": "28d93a47-bf9b-4b4c-b5b9-1e2f0464a3c5",
   "metadata": {},
   "outputs": [
    {
     "data": {
      "image/png": "[encoded data removed]",
      "text/plain": [
       "<Figure size 600x400 with 1 Axes>"
      ]
     },
     "metadata": {},
     "output_type": "display_data"
    }
   ],
   "source": [
    "# Visualize the target variable distribution\n",
    "plt.figure(figsize=(6, 4))\n",
    "sns.countplot(x='isFraud', data=df)\n",
    "plt.title('Distribution of the Target Variable (isFraud)')\n",
    "plt.xticks([0, 1], ['Legitimate (0)', 'Fraudulent (1)'])\n",
    "plt.savefig('isFraud_distribution.png')\n",
    "plt.show()"
   ]
  },
  {
   "cell_type": "code",
   "execution_count": 22,
   "id": "2ce97e74-52d5-44fd-98b4-a3aa74d3d79c",
   "metadata": {},
   "outputs": [
    {
     "name": "stdout",
     "output_type": "stream",
     "text": [
      "Legitimate Transactions: 6354407 (99.8709%)\n",
      "Fraudulent Transactions: 8213 (0.1291%)\n",
      "This confirms a severe class imbalance, a common challenge in fraud detection.\n"
     ]
    }
   ],
   "source": [
    "# Calculate the percentage of fraud\n",
    "fraud_count = df['isFraud'].sum()\n",
    "legit_count = len(df) - fraud_count\n",
    "print(f'Legitimate Transactions: {legit_count} ({legit_count / len(df) * 100:.4f}%)')\n",
    "print(f'Fraudulent Transactions: {fraud_count} ({fraud_count / len(df) * 100:.4f}%)')\n",
    "print('This confirms a severe class imbalance, a common challenge in fraud detection.')"
   ]
  },
  {
   "cell_type": "code",
   "execution_count": 39,
   "id": "31373694-711c-4372-87df-611921ba46bb",
   "metadata": {},
   "outputs": [
    {
     "name": "stdout",
     "output_type": "stream",
     "text": [
      "Index(['step', 'amount', 'oldbalanceOrg', 'newbalanceOrig', 'oldbalanceDest',\n",
      "       'newbalanceDest', 'isFraud', 'type_CASH_OUT', 'type_DEBIT',\n",
      "       'type_PAYMENT', 'type_TRANSFER', 'nameOrig_encoded',\n",
      "       'nameDest_encoded'],\n",
      "      dtype='object')\n"
     ]
    }
   ],
   "source": [
    "print(df.columns)"
   ]
  },
  {
   "cell_type": "code",
   "execution_count": 28,
   "id": "b4c63053-9e0c-43ea-9fe4-13eacdedc39e",
   "metadata": {},
   "outputs": [
    {
     "name": "stdout",
     "output_type": "stream",
     "text": [
      "['step', 'amount', 'nameOrig', 'oldbalanceOrg', 'newbalanceOrig', 'nameDest', 'oldbalanceDest', 'newbalanceDest', 'isFraud', 'isFlaggedFraud', 'type_CASH_OUT', 'type_DEBIT', 'type_PAYMENT', 'type_TRANSFER']\n"
     ]
    }
   ],
   "source": [
    "print(df.columns.tolist())"
   ]
  },
  {
   "cell_type": "code",
   "execution_count": 40,
   "id": "a9eba7dc-4e2a-42bc-a6c1-dd2823bccf31",
   "metadata": {},
   "outputs": [
    {
     "name": "stdout",
     "output_type": "stream",
     "text": [
      "<class 'pandas.core.frame.DataFrame'>\n",
      "RangeIndex: 6362620 entries, 0 to 6362619\n",
      "Data columns (total 13 columns):\n",
      " #   Column            Dtype  \n",
      "---  ------            -----  \n",
      " 0   step              int64  \n",
      " 1   amount            float64\n",
      " 2   oldbalanceOrg     float64\n",
      " 3   newbalanceOrig    float64\n",
      " 4   oldbalanceDest    float64\n",
      " 5   newbalanceDest    float64\n",
      " 6   isFraud           int64  \n",
      " 7   type_CASH_OUT     bool   \n",
      " 8   type_DEBIT        bool   \n",
      " 9   type_PAYMENT      bool   \n",
      " 10  type_TRANSFER     bool   \n",
      " 11  nameOrig_encoded  int64  \n",
      " 12  nameDest_encoded  int64  \n",
      "dtypes: bool(4), float64(5), int64(4)\n",
      "memory usage: 461.2 MB\n"
     ]
    }
   ],
   "source": [
    "# Display the new structure\n",
    "df.info()"
   ]
  },
  {
   "cell_type": "code",
   "execution_count": 44,
   "id": "88cbf470-e77e-4d7b-a214-ab5a52965916",
   "metadata": {},
   "outputs": [
    {
     "name": "stdout",
     "output_type": "stream",
     "text": [
      "isFraud             1.000000\n",
      "errorBalanceDest    0.055120\n",
      "errorBalanceOrig    0.011283\n",
      "Name: isFraud, dtype: float64\n"
     ]
    }
   ],
   "source": [
    "# 1. Calculate Error in Balance for Originating Customer\n",
    "df['errorBalanceOrig'] = df['oldbalanceOrg'] - df['amount'] - df['newbalanceOrig']\n",
    "# 2. Calculate Error in Balance for Destination Customer\n",
    "# Note: For CASH-OUT and TRANSFER, the amount is added to the destination balance.\n",
    "# For other types (PAYMENT, CASH-IN, DEBIT), the destination balance is not updated or is zero (Merchants).\n",
    "df['errorBalanceDest'] = df['oldbalanceDest'] + df['amount'] - df['newbalanceDest']\n",
    "# Display the new features and check for correlation with fraud\n",
    "print(df[['isFraud', 'errorBalanceOrig', 'errorBalanceDest']].corr()['isFraud'].sort_values(ascending=False))"
   ]
  },
  {
   "cell_type": "code",
   "execution_count": 52,
   "id": "442de97e-34c1-4c53-8821-102b49189825",
   "metadata": {},
   "outputs": [
    {
     "name": "stdout",
     "output_type": "stream",
     "text": [
      "<class 'pandas.core.frame.DataFrame'>\n",
      "RangeIndex: 6362620 entries, 0 to 6362619\n",
      "Data columns (total 11 columns):\n",
      " #   Column            Dtype  \n",
      "---  ------            -----  \n",
      " 0   step              int64  \n",
      " 1   amount            float64\n",
      " 2   isFraud           int64  \n",
      " 3   type_CASH_OUT     bool   \n",
      " 4   type_DEBIT        bool   \n",
      " 5   type_PAYMENT      bool   \n",
      " 6   type_TRANSFER     bool   \n",
      " 7   nameOrig_encoded  int64  \n",
      " 8   nameDest_encoded  int64  \n",
      " 9   errorBalanceOrig  float64\n",
      " 10  errorBalanceDest  float64\n",
      "dtypes: bool(4), float64(3), int64(4)\n",
      "memory usage: 364.1 MB\n"
     ]
    }
   ],
   "source": [
    "df.info()"
   ]
  },
  {
   "cell_type": "code",
   "execution_count": 53,
   "id": "93d1543a-af8d-4555-b936-f66b0e170f6f",
   "metadata": {},
   "outputs": [
    {
     "name": "stdout",
     "output_type": "stream",
     "text": [
      "Index(['step', 'amount', 'isFraud', 'type_CASH_OUT', 'type_DEBIT',\n",
      "       'type_PAYMENT', 'type_TRANSFER', 'nameOrig_encoded', 'nameDest_encoded',\n",
      "       'errorBalanceOrig', 'errorBalanceDest'],\n",
      "      dtype='object')\n"
     ]
    }
   ],
   "source": [
    "print(df.columns)"
   ]
  },
  {
   "cell_type": "code",
   "execution_count": 54,
   "id": "8f58ee63-3d7d-4ea3-b92e-92a27d13ffe8",
   "metadata": {},
   "outputs": [],
   "source": [
    "# Separate features (X) and target (y)\n",
    "X = df.drop('isFraud', axis=1)\n",
    "y = df['isFraud']"
   ]
  },
  {
   "cell_type": "code",
   "execution_count": 56,
   "id": "b0ec0176-afc6-4ca3-bc88-7b2c32039e01",
   "metadata": {},
   "outputs": [],
   "source": [
    "from sklearn.preprocessing import StandardScaler\n",
    "# Standardization (Step 1)\n",
    "scaler = StandardScaler()\n",
    "X_scaled = scaler.fit_transform(X)"
   ]
  },
  {
   "cell_type": "code",
   "execution_count": 58,
   "id": "fd207365-4b31-4e2a-a5b6-5d664673962c",
   "metadata": {},
   "outputs": [
    {
     "name": "stdout",
     "output_type": "stream",
     "text": [
      "Original number of features: 10\n",
      "Reduced number of features (95% variance): 8\n",
      "Cumulative variance explained by components: 0.9849\n"
     ]
    }
   ],
   "source": [
    "from sklearn.decomposition import PCA\n",
    "import numpy as np\n",
    "# We will choose a number of components that retains a high percentage of the variance (e.g., 95%).\n",
    "pca = PCA(n_components=0.95)\n",
    "X_pca = pca.fit_transform(X_scaled)\n",
    "print(f'Original number of features: {X_scaled.shape[1]}')\n",
    "print(f'Reduced number of features (95% variance): {X_pca.shape[1]}')\n",
    "print(f'Cumulative variance explained by components: {np.sum(pca.explained_variance_ratio_):.4f}')"
   ]
  },
  {
   "cell_type": "code",
   "execution_count": 60,
   "id": "887ff21e-4a92-4e13-940b-610ccd47bb9c",
   "metadata": {},
   "outputs": [
    {
     "name": "stdout",
     "output_type": "stream",
     "text": [
      "        PC1       PC2       PC3       PC4       PC5       PC6       PC7  \\\n",
      "0  1.760070 -1.031254 -0.656261  0.659149 -1.375994 -1.371078 -0.315072   \n",
      "1  1.807577 -1.066263 -0.680242  0.711339 -0.597267 -1.370979 -0.313140   \n",
      "2 -1.020833 -0.536181  1.028252  0.853222 -1.265244 -2.251737  2.543833   \n",
      "3 -0.482896  1.502355 -0.979872  0.726565  1.390449 -1.304052 -0.258780   \n",
      "4  1.255455 -0.593811 -0.483729  0.771408  0.083991 -1.439868 -0.208957   \n",
      "\n",
      "        PC8  isFraud  \n",
      "0  0.106202        0  \n",
      "1  0.142672        0  \n",
      "2  0.638635        1  \n",
      "3  0.431820        1  \n",
      "4 -0.396152        0  \n"
     ]
    }
   ],
   "source": [
    "# Create a DataFrame for the PCA components and the target variable\n",
    "X_pca_df = pd.DataFrame(data = X_pca, columns = [f'PC{i+1}' for i in range(X_pca.shape[1])])\n",
    "X_pca_df['isFraud'] = y.values\n",
    "# Display the first few rows of the PCA-transformed data\n",
    "print(X_pca_df.head())"
   ]
  },
  {
   "cell_type": "code",
   "execution_count": 63,
   "id": "d6c6d469-33c2-4faa-a267-4f9ed89e54de",
   "metadata": {},
   "outputs": [
    {
     "name": "stdout",
     "output_type": "stream",
     "text": [
      "Original training set size: 4453834\n",
      "Fraud cases in training set: 5749\n"
     ]
    }
   ],
   "source": [
    "# Split the data into training and testing sets\n",
    "# Stratify is crucial here to ensure both sets have a similar proportion of fraud cases.\n",
    "from sklearn.model_selection import train_test_split\n",
    "X_train, X_test, y_train, y_test = train_test_split(X, y, test_size=0.3, random_state=42, stratify=y)\n",
    "print(f'Original training set size: {X_train.shape[0]}')\n",
    "print(f'Fraud cases in training set: {y_train.sum()}')"
   ]
  },
  {
   "cell_type": "code",
   "execution_count": 64,
   "id": "756f6f3e-8327-4d82-bcd7-49ee56c0ee25",
   "metadata": {},
   "outputs": [
    {
     "name": "stdout",
     "output_type": "stream",
     "text": [
      "\n",
      "Resampled training set size: 8896170\n",
      "Fraud cases in resampled training set: 4448085\n"
     ]
    }
   ],
   "source": [
    "# Apply SMOTE to the training data to handle imbalance\n",
    "from imblearn.over_sampling import SMOTE\n",
    "smote = SMOTE(random_state=42)\n",
    "X_train_res, y_train_res = smote.fit_resample(X_train, y_train)\n",
    "print(f'\\nResampled training set size: {X_train_res.shape[0]}')\n",
    "print(f'Fraud cases in resampled training set: {y_train_res.sum()}')"
   ]
  },
  {
   "cell_type": "code",
   "execution_count": 66,
   "id": "0c7784a7-717f-4048-97a8-bb657cca8899",
   "metadata": {},
   "outputs": [
    {
     "name": "stdout",
     "output_type": "stream",
     "text": [
      "Decision Tree Model Trained Successfully.\n"
     ]
    }
   ],
   "source": [
    "from sklearn.tree import DecisionTreeClassifier\n",
    "# Initialize and train the Decision Tree Classifier\n",
    "dt_classifier = DecisionTreeClassifier(random_state=42)\n",
    "dt_classifier.fit(X_train_res, y_train_res)\n",
    "# Make predictions on the original, *unbalanced* test set\n",
    "y_pred_dt = dt_classifier.predict(X_test)\n",
    "y_proba_dt = dt_classifier.predict_proba(X_test)[:, 1]\n",
    "print('Decision Tree Model Trained Successfully.')"
   ]
  },
  {
   "cell_type": "code",
   "execution_count": 69,
   "id": "9573ef95-687a-4df9-8722-14ef69d7e587",
   "metadata": {},
   "outputs": [
    {
     "name": "stdout",
     "output_type": "stream",
     "text": [
      "Accuracy: 0.9980\n"
     ]
    }
   ],
   "source": [
    "from sklearn.metrics import (accuracy_score,confusion_matrix,classification_report,roc_auc_score,roc_curve)\n",
    "import matplotlib.pyplot as plt\n",
    "import seaborn as sns\n",
    "# Accuracy\n",
    "accuracy = accuracy_score(y_test, y_pred_dt)\n",
    "print(f'Accuracy: {accuracy:.4f}')"
   ]
  },
  {
   "cell_type": "code",
   "execution_count": 70,
   "id": "ccd3907b-24bb-4b09-bad1-ee143a02f056",
   "metadata": {},
   "outputs": [
    {
     "data": {
      "image/png": "[encoded data removed]",
      "text/plain": [
       "<Figure size 600x400 with 2 Axes>"
      ]
     },
     "metadata": {},
     "output_type": "display_data"
    }
   ],
   "source": [
    "# Confusion Matrix\n",
    "cm = confusion_matrix(y_test, y_pred_dt)\n",
    "plt.figure(figsize=(6,4))\n",
    "sns.heatmap(cm, annot=True, fmt='d', cmap='Blues', xticklabels=['Not Fraud', 'Fraud'], yticklabels=['Not Fraud', 'Fraud'])\n",
    "plt.title('Confusion Matrix - Decision Tree')\n",
    "plt.xlabel('Predicted')\n",
    "plt.ylabel('Actual')\n",
    "plt.show()"
   ]
  },
  {
   "cell_type": "code",
   "execution_count": 71,
   "id": "9e7f32fa-5d10-46c1-9c5e-f99ba81919bb",
   "metadata": {},
   "outputs": [
    {
     "name": "stdout",
     "output_type": "stream",
     "text": [
      "\n",
      "Classification Report:\n",
      "              precision    recall  f1-score   support\n",
      "\n",
      "           0       1.00      1.00      1.00   1906322\n",
      "           1       0.38      0.82      0.52      2464\n",
      "\n",
      "    accuracy                           1.00   1908786\n",
      "   macro avg       0.69      0.91      0.76   1908786\n",
      "weighted avg       1.00      1.00      1.00   1908786\n",
      "\n"
     ]
    }
   ],
   "source": [
    "# Classification Report\n",
    "print('\\nClassification Report:')\n",
    "print(classification_report(y_test, y_pred_dt))"
   ]
  },
  {
   "cell_type": "code",
   "execution_count": 72,
   "id": "1bc3bf8d-2f5c-4ae9-93bb-c8fd22585980",
   "metadata": {},
   "outputs": [
    {
     "name": "stdout",
     "output_type": "stream",
     "text": [
      "ROC-AUC Score: 0.9100\n"
     ]
    }
   ],
   "source": [
    "# ROC-AUC Score\n",
    "roc_auc = roc_auc_score(y_test, y_proba_dt)\n",
    "print(f'ROC-AUC Score: {roc_auc:.4f}')"
   ]
  },
  {
   "cell_type": "code",
   "execution_count": 73,
   "id": "d6dd9c38-33f1-490e-a32f-d3d7f0746267",
   "metadata": {},
   "outputs": [
    {
     "data": {
      "image/png": "[encoded data removed]",
      "text/plain": [
       "<Figure size 600x400 with 1 Axes>"
      ]
     },
     "metadata": {},
     "output_type": "display_data"
    }
   ],
   "source": [
    "# ROC Curve\n",
    "fpr, tpr, thresholds = roc_curve(y_test, y_proba_dt)\n",
    "plt.figure(figsize=(6,4))\n",
    "plt.plot(fpr, tpr, color='darkorange', label=f'ROC Curve (AUC = {roc_auc:.4f})')\n",
    "plt.plot([0, 1], [0, 1], color='navy', linestyle='--')\n",
    "plt.xlabel('False Positive Rate')\n",
    "plt.ylabel('True Positive Rate')\n",
    "plt.title('Receiver Operating Characteristic (ROC) Curve')\n",
    "plt.legend()\n",
    "plt.show()"
   ]
  },
  {
   "cell_type": "code",
   "execution_count": 79,
   "id": "915f68fa-f9a9-4d42-af9b-070ad10af9e9",
   "metadata": {},
   "outputs": [],
   "source": [
    "from sklearn.model_selection import cross_val_score\n",
    "# Prepare the full scaled dataset (X) and target (y) without SMOTE for cross-validation\n",
    "X_full = X  # X contains the full scaled features\n",
    "y_full = y  # y contains the full target variable"
   ]
  },
  {
   "cell_type": "code",
   "execution_count": 80,
   "id": "7c946f4e-86cb-451c-997c-5dd42e834d80",
   "metadata": {},
   "outputs": [],
   "source": [
    "# Initialize a new Decision Tree classifier\n",
    "dt_cv = DecisionTreeClassifier(random_state=42)"
   ]
  },
  {
   "cell_type": "code",
   "execution_count": 81,
   "id": "0e284e3c-69f7-4776-8d04-635be21614ae",
   "metadata": {},
   "outputs": [],
   "source": [
    "# Perform 5-fold cross-validation using AUC as the scoring metric\n",
    "cv_scores = cross_val_score(dt_cv, X_full, y_full, cv=5, scoring='roc_auc', n_jobs=-1)"
   ]
  },
  {
   "cell_type": "code",
   "execution_count": 83,
   "id": "e54fc4d9-bf1b-48f2-8957-5969e50a2aa7",
   "metadata": {},
   "outputs": [
    {
     "name": "stdout",
     "output_type": "stream",
     "text": [
      "\n",
      "Mean CV AUC Score: 0.6617\n"
     ]
    }
   ],
   "source": [
    "print(f'\\nMean CV AUC Score: {cv_scores.mean():.4f}')"
   ]
  },
  {
   "cell_type": "code",
   "execution_count": 85,
   "id": "19c33d8c-0867-47fe-8649-b00da273a20e",
   "metadata": {},
   "outputs": [
    {
     "name": "stdout",
     "output_type": "stream",
     "text": [
      "Standard Deviation of CV AUC Scores: 0.1358\n"
     ]
    }
   ],
   "source": [
    "print(f'Standard Deviation of CV AUC Scores: {cv_scores.std():.4f}')"
   ]
  },
  {
   "cell_type": "code",
   "execution_count": 86,
   "id": "ad0cc20d-c364-46b8-ad0b-21cc5fd0d707",
   "metadata": {},
   "outputs": [
    {
     "name": "stdout",
     "output_type": "stream",
     "text": [
      "This mean score provides a more reliable estimate of the model's generalization performance than the single test set score.\n"
     ]
    }
   ],
   "source": [
    "print(\"This mean score provides a more reliable estimate of the model's generalization performance than the single test set score.\")"
   ]
  }
 ],
 "metadata": {
  "kernelspec": {
   "display_name": "Python 3 (ipykernel)",
   "language": "python",
   "name": "python3"
  },
  "language_info": {
   "codemirror_mode": {
    "name": "ipython",
    "version": 3
   },
   "file_extension": ".py",
   "mimetype": "text/x-python",
   "name": "python",
   "nbconvert_exporter": "python",
   "pygments_lexer": "ipython3",
   "version": "3.11.4"
  }
 },
 "nbformat": 4,
 "nbformat_minor": 5
}
